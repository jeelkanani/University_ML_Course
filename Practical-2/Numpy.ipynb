{
  "nbformat": 4,
  "nbformat_minor": 0,
  "metadata": {
    "colab": {
      "provenance": []
    },
    "kernelspec": {
      "name": "python3",
      "display_name": "Python 3"
    },
    "language_info": {
      "name": "python"
    }
  },
  "cells": [
    {
      "cell_type": "code",
      "execution_count": 1,
      "metadata": {
        "colab": {
          "base_uri": "https://localhost:8080/",
          "height": 0
        },
        "id": "9cwOf3d1MzjF",
        "outputId": "02cd7d0a-1fda-4f91-dfee-87b5bda66b63"
      },
      "outputs": [
        {
          "output_type": "stream",
          "name": "stdout",
          "text": [
            "[[0. 0. 0. 0.]\n",
            " [0. 0. 0. 0.]\n",
            " [0. 0. 0. 0.]\n",
            " [0. 0. 0. 0.]]\n"
          ]
        }
      ],
      "source": [
        "#creating blank array\n",
        "import numpy as np\n",
        "arr = np.zeros((4,4))\n",
        "print(arr)"
      ]
    },
    {
      "cell_type": "code",
      "source": [
        "#creating array with predefined data\n",
        "arr = np.array([1,2,3])\n",
        "print(arr)\n"
      ],
      "metadata": {
        "colab": {
          "base_uri": "https://localhost:8080/",
          "height": 0
        },
        "id": "TJpGKNzINpYi",
        "outputId": "091f675f-d55e-445a-a40b-b8274caa0528"
      },
      "execution_count": 2,
      "outputs": [
        {
          "output_type": "stream",
          "name": "stdout",
          "text": [
            "[1 2 3]\n"
          ]
        }
      ]
    },
    {
      "cell_type": "code",
      "source": [
        "#creating array with pattern specific data\n",
        "arr1=np.arange(start=1, stop=10, step=3)\n",
        "arr2 = np.linspace(10, 20, 5)  \n",
        "print(arr1)\n",
        "print(arr2)"
      ],
      "metadata": {
        "colab": {
          "base_uri": "https://localhost:8080/",
          "height": 0
        },
        "id": "G8AVvZXQN3PW",
        "outputId": "8b3d8b85-b3a5-46b6-c312-953b685b7292"
      },
      "execution_count": 3,
      "outputs": [
        {
          "output_type": "stream",
          "name": "stdout",
          "text": [
            "[1 4 7]\n",
            "[10.  12.5 15.  17.5 20. ]\n"
          ]
        }
      ]
    },
    {
      "cell_type": "code",
      "source": [
        "#slicing the array\n",
        "arr=np.arange(start=1, stop=30, step=3)\n",
        "sliced_array1 = arr[1:10]\n",
        "sliced_array2 = arr[:10]\n",
        "sliced_array3 = arr[2:]\n",
        "sliced_array4 = arr[1:10:2]\n",
        "print(sliced_array1)\n",
        "print(sliced_array2)\n",
        "print(sliced_array3)\n",
        "print(sliced_array4)\n"
      ],
      "metadata": {
        "colab": {
          "base_uri": "https://localhost:8080/",
          "height": 0
        },
        "id": "75qcOFtbO3_a",
        "outputId": "8dd818aa-20a2-43f1-e9de-7ec3323925b4"
      },
      "execution_count": 6,
      "outputs": [
        {
          "output_type": "stream",
          "name": "stdout",
          "text": [
            "[ 4  7 10 13 16 19 22 25 28]\n",
            "[ 1  4  7 10 13 16 19 22 25 28]\n",
            "[ 7 10 13 16 19 22 25 28]\n",
            "[ 4 10 16 22 28]\n"
          ]
        }
      ]
    },
    {
      "cell_type": "code",
      "source": [
        "#updating the array\n",
        "arr=np.arange(start=1, stop=30, step=2)\n",
        "print(\"Before update :\",arr)\n",
        "arr[3] = 91\n",
        "print(\"After update :\",arr)\n"
      ],
      "metadata": {
        "colab": {
          "base_uri": "https://localhost:8080/",
          "height": 0
        },
        "id": "zJYxcIkkQaCq",
        "outputId": "ef52de96-740b-4c25-c83c-5c5f4311beee"
      },
      "execution_count": 10,
      "outputs": [
        {
          "output_type": "stream",
          "name": "stdout",
          "text": [
            "Before update : [ 1  3  5  7  9 11 13 15 17 19 21 23 25 27 29]\n",
            "After update : [ 1  3  5 91  9 11 13 15 17 19 21 23 25 27 29]\n"
          ]
        }
      ]
    },
    {
      "cell_type": "code",
      "source": [
        "#shape\n",
        "arr=np.arange(start=1, stop=30, step=2)\n",
        "print(\"Array : \",arr)\n",
        "reshaped_array = np.reshape(arr, (3,5))\n",
        "print(\"reshaped_array :\\n \",reshaped_array)\n",
        "\n",
        "#‘F’ means to flatten in column-major\n",
        "flattened_array = reshaped_array.flatten('F')\n",
        "print(\"flattened_array :\\n\" ,flattened_array)\n"
      ],
      "metadata": {
        "colab": {
          "base_uri": "https://localhost:8080/",
          "height": 0
        },
        "id": "IQBKx_1YRL_9",
        "outputId": "aa571f21-642d-43bb-a51e-8a9d1212ebae"
      },
      "execution_count": 16,
      "outputs": [
        {
          "output_type": "stream",
          "name": "stdout",
          "text": [
            "Array :  [ 1  3  5  7  9 11 13 15 17 19 21 23 25 27 29]\n",
            "reshaped_array :\n",
            "  [[ 1  3  5  7  9]\n",
            " [11 13 15 17 19]\n",
            " [21 23 25 27 29]]\n",
            "flattened_array :\n",
            " [ 1 11 21  3 13 23  5 15 25  7 17 27  9 19 29]\n"
          ]
        }
      ]
    },
    {
      "cell_type": "code",
      "source": [
        "#looping over the array\n",
        "arr = np.arange(start=1, stop=30, step=2).reshape((3,5))\n",
        "for element in arr:\n",
        "   print(element)  "
      ],
      "metadata": {
        "colab": {
          "base_uri": "https://localhost:8080/",
          "height": 0
        },
        "id": "uQOeKTYrR6Ls",
        "outputId": "78cc32d3-1aba-4797-aa81-2d14a352d26b"
      },
      "execution_count": 18,
      "outputs": [
        {
          "output_type": "stream",
          "name": "stdout",
          "text": [
            "[1 3 5 7 9]\n",
            "[11 13 15 17 19]\n",
            "[21 23 25 27 29]\n"
          ]
        }
      ]
    },
    {
      "cell_type": "code",
      "source": [
        "from google.colab import drive\n",
        "drive.mount('/content/gdrive')\n"
      ],
      "metadata": {
        "colab": {
          "base_uri": "https://localhost:8080/",
          "height": 0
        },
        "id": "5DpJXThCdfQi",
        "outputId": "e937ffeb-c902-4929-9edf-2947272fab7e"
      },
      "execution_count": 23,
      "outputs": [
        {
          "output_type": "stream",
          "name": "stdout",
          "text": [
            "Mounted at /content/gdrive\n"
          ]
        }
      ]
    },
    {
      "cell_type": "code",
      "source": [
        "#reading files in numpy\n",
        "data = np.genfromtxt('/content/gdrive/MyDrive/data.csv', delimiter= ' ', dtype=str)\n",
        "print(data)"
      ],
      "metadata": {
        "colab": {
          "base_uri": "https://localhost:8080/",
          "height": 0
        },
        "id": "NAnQuI1tTYtW",
        "outputId": "8b3ecc5c-3815-4128-8686-3ec7d40fe8a8"
      },
      "execution_count": 25,
      "outputs": [
        {
          "output_type": "stream",
          "name": "stdout",
          "text": [
            "['Name,City,certificate' 'Jeel,suart,AWS' 'Meet,ahemdabad,REDHAT'\n",
            " 'Aniket,jamnagar,CEH' 'Sharad,navsari,AWS' 'Bhavdip,Rajkot,AAA']\n"
          ]
        }
      ]
    },
    {
      "cell_type": "code",
      "source": [
        "#using numpy for matrix multiplications\n",
        "import numpy as np\n",
        "import time\n",
        "\n",
        "# Generate two random 1000 x 1000 matrices\n",
        "matrix_a = np.random.rand(1000, 1000)\n",
        "matrix_b = np.random.rand(1000, 1000)\n",
        "\n",
        "start_time = time.time()\n",
        "result = np.dot(matrix_a, matrix_b)\n",
        "end_time = time.time()\n",
        "\n",
        "time = end_time - start_time\n",
        "\n",
        "print(f\"NumPy matrix multiplication took {time:.6f} seconds.\")"
      ],
      "metadata": {
        "colab": {
          "base_uri": "https://localhost:8080/",
          "height": 0
        },
        "id": "ZpQ8TBIhVDZQ",
        "outputId": "ae16b911-54d5-43f1-93af-b7ff0f664d5a"
      },
      "execution_count": 20,
      "outputs": [
        {
          "output_type": "stream",
          "name": "stdout",
          "text": [
            "NumPy matrix multiplication took 0.070293 seconds.\n"
          ]
        }
      ]
    },
    {
      "cell_type": "code",
      "source": [
        "import time\n",
        "import random\n",
        "# Generate two random 1000 x 1000 matrices\n",
        "matrix_a = [[random.random() for j in range(1000)] for i in range(1000)]\n",
        "matrix_b = [[random.random() for j in range(1000)] for i in range(1000)]\n",
        "\n",
        "start_time = time.time()\n",
        "result = [[0 for j in range(1000)] for i in range(1000)]\n",
        "\n",
        "for i in range(1000):\n",
        "    for j in range(1000):\n",
        "        for k in range(1000):\n",
        "            result[i][j] += matrix_a[i][k] * matrix_b[k][j]\n",
        "\n",
        "\n",
        "end_time = time.time()\n",
        "time = end_time - start_time\n",
        "\n",
        "print(f\"List matrix multiplication took {time:.6f} seconds.\")\n"
      ],
      "metadata": {
        "colab": {
          "base_uri": "https://localhost:8080/",
          "height": 0
        },
        "id": "2kVwQE5DVakD",
        "outputId": "08d3d720-9a9d-4b67-b5e8-4635007611c5"
      },
      "execution_count": 22,
      "outputs": [
        {
          "output_type": "stream",
          "name": "stdout",
          "text": [
            "List matrix multiplication took 433.126120 seconds.\n"
          ]
        }
      ]
    },
    {
      "cell_type": "code",
      "source": [],
      "metadata": {
        "id": "zhEKOBDFVahX"
      },
      "execution_count": null,
      "outputs": []
    }
  ]
}